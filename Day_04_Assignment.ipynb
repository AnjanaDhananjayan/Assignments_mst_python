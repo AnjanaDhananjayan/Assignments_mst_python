{
  "nbformat": 4,
  "nbformat_minor": 0,
  "metadata": {
    "colab": {
      "provenance": []
    },
    "kernelspec": {
      "name": "python3",
      "display_name": "Python 3"
    },
    "language_info": {
      "name": "python"
    }
  },
  "cells": [
    {
      "cell_type": "markdown",
      "source": [
        "**Question_1**"
      ],
      "metadata": {
        "id": "WCksyn1uyFMR"
      }
    },
    {
      "cell_type": "markdown",
      "source": [
        "**Question_1**"
      ],
      "metadata": {
        "id": "SqTQgKXDOAC2"
      }
    },
    {
      "cell_type": "code",
      "execution_count": null,
      "metadata": {
        "colab": {
          "base_uri": "https://localhost:8080/"
        },
        "id": "8hkDuQDQw0nv",
        "outputId": "b1ef5a0c-2f90-4879-f175-61d2d58dfd6a"
      },
      "outputs": [
        {
          "output_type": "stream",
          "name": "stdout",
          "text": [
            "Enter a number in between 1 and 10:2\n",
            "Too low! Try again\n",
            "Enter a number in between 1 and 10:6\n",
            "Too high! Try again\n",
            "Enter a number in between 1 and 10:4\n",
            "Too low! Try again\n",
            "Enter a number in between 1 and 10:5\n",
            "Congratulation! You guessed the number correctly!\n"
          ]
        }
      ],
      "source": [
        "#guess game\n",
        "secretNumber=5\n",
        "while True:\n",
        "  guess=int(input(\"Enter a number in between 1 and 10:\"))\n",
        "  if guess<10:\n",
        "\n",
        "    if guess==secretNumber:\n",
        "      print(\"Congratulation! You guessed the number correctly!\")\n",
        "      break\n",
        "    elif guess > secretNumber:\n",
        "      print(\"Too high! Try again\")\n",
        "\n",
        "    elif guess < secretNumber:\n",
        "      print(\"Too low! Try again\")\n",
        "\n",
        "  else:\n",
        "    print(\"number should be in 1 and 10\")\n",
        "\n",
        "\n",
        "\n",
        "\n"
      ]
    },
    {
      "cell_type": "markdown",
      "source": [
        "**Question_2**"
      ],
      "metadata": {
        "id": "pfLU2xTCyDMq"
      }
    },
    {
      "cell_type": "code",
      "source": [
        "#factorial\n",
        "number=int(input(\"enter a positive number:\"))\n",
        "i=1\n",
        "fact=1\n",
        "while(i<=number):\n",
        "  fact=fact*i\n",
        "  i+=1\n",
        "print(\"factorial of\",number,\"is:\",fact)\n"
      ],
      "metadata": {
        "colab": {
          "base_uri": "https://localhost:8080/"
        },
        "id": "cXBVQHfpPhNw",
        "outputId": "639e82a1-4c50-417f-b2f5-eaa35e5951fd"
      },
      "execution_count": null,
      "outputs": [
        {
          "output_type": "stream",
          "name": "stdout",
          "text": [
            "enter a positive number:5\n",
            "factorial of 5 is: 120\n"
          ]
        }
      ]
    },
    {
      "cell_type": "markdown",
      "source": [
        "**Question_3**"
      ],
      "metadata": {
        "id": "xemYzpJ4eZeZ"
      }
    },
    {
      "cell_type": "code",
      "source": [
        "L=128\n",
        "while True:\n",
        "  W=int(input(\"Enter the width of the photo:\"))\n",
        "  H=int(input(\"Enter the height of the photo:\"))\n",
        "  minimum_dimension=L*L\n",
        "  photo_dimension=W*H\n",
        "  if(photo_dimension<minimum_dimension ):\n",
        "    print(\"UPLOAD ANOTHER\")\n",
        "  elif(photo_dimension > minimum_dimension ):\n",
        "    print(\"CROP IT\")\n",
        "  elif(minimum_dimension ==photo_dimension):\n",
        "    print(\"ACCEPTED\")\n",
        "    break\n"
      ],
      "metadata": {
        "id": "hmHhWukAUiPR",
        "colab": {
          "base_uri": "https://localhost:8080/"
        },
        "outputId": "5d4f7b78-de1a-4906-adca-3558e406eaae"
      },
      "execution_count": 13,
      "outputs": [
        {
          "output_type": "stream",
          "name": "stdout",
          "text": [
            "Enter the width of the photo:127\n",
            "Enter the height of the photo:128\n",
            "UPLOAD ANOTHER\n",
            "Enter the width of the photo:128\n",
            "Enter the height of the photo:139\n",
            "CROP IT\n",
            "Enter the width of the photo:128\n",
            "Enter the height of the photo:128\n",
            "ACCEPTED\n"
          ]
        }
      ]
    },
    {
      "cell_type": "code",
      "source": [],
      "metadata": {
        "id": "feaVctdPflX5"
      },
      "execution_count": null,
      "outputs": []
    }
  ]
}