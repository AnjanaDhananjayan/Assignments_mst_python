{
  "nbformat": 4,
  "nbformat_minor": 0,
  "metadata": {
    "colab": {
      "provenance": []
    },
    "kernelspec": {
      "name": "python3",
      "display_name": "Python 3"
    },
    "language_info": {
      "name": "python"
    }
  },
  "cells": [
    {
      "cell_type": "markdown",
      "source": [
        "**Question_1**"
      ],
      "metadata": {
        "id": "2gL0_74h65i8"
      }
    },
    {
      "cell_type": "code",
      "execution_count": 1,
      "metadata": {
        "colab": {
          "base_uri": "https://localhost:8080/"
        },
        "id": "zOymAJ-2mUYX",
        "outputId": "b9a1a381-5485-4716-d16a-30d8c082639a"
      },
      "outputs": [
        {
          "output_type": "stream",
          "name": "stdout",
          "text": [
            "30\n"
          ]
        }
      ],
      "source": [
        "scoresheet=[25,39,18,15,30,22]\n",
        "list1=[]\n",
        "for i in scoresheet:\n",
        "  if i !=max(scoresheet):\n",
        "    list1.append(i)\n",
        "    i+=1\n",
        "print(max(list1))\n"
      ]
    },
    {
      "cell_type": "markdown",
      "source": [
        "**Question_2**"
      ],
      "metadata": {
        "id": "A-aLZ1_f7DV0"
      }
    },
    {
      "cell_type": "code",
      "source": [
        " d={\"John\":[25,32,43],\"Peter\":[87,55,96],\"Ram\":[58,55,43],\"Meena\":[63,79,85]}\n",
        " name=input(\"enter the name: \").capitalize()\n",
        " if name in d:\n",
        "  d[name]= [88,77,99]\n",
        "  print(d)\n",
        " else:\n",
        "  print(\"name not found...\")"
      ],
      "metadata": {
        "colab": {
          "base_uri": "https://localhost:8080/"
        },
        "id": "5Vd1F4wom_8N",
        "outputId": "61fd8c94-581a-442b-bd2b-38e3cfe01912"
      },
      "execution_count": null,
      "outputs": [
        {
          "output_type": "stream",
          "name": "stdout",
          "text": [
            "enter the name: peter\n",
            "{'John': [25, 32, 43], 'Peter': [88, 77, 99], 'Ram': [58, 55, 43], 'Meena': [63, 79, 85]}\n"
          ]
        }
      ]
    },
    {
      "cell_type": "markdown",
      "source": [
        "**Question_3**"
      ],
      "metadata": {
        "id": "9KMeGbcZ7Jef"
      }
    },
    {
      "cell_type": "code",
      "source": [
        "print(\"welcome....\")\n",
        "age = int(input(\"enter your age:\"))\n",
        "if age<5 or age>60:\n",
        "    print(\" you got free tickets....\")\n",
        "else:\n",
        "\n",
        "  gender=input(\"enter your gender\"\"\\n\"\"Male or Female\"\"\\n\").capitalize()\n",
        "  if gender==\"Female\":\n",
        "    if age>12 and age<=60:\n",
        "      price=50*50/100\n",
        "      print(\"Enjoy...50% off\")\n",
        "      print(\"ticket price is Rs\",price)\n",
        "    elif age>=5 and age<=12:\n",
        "      price=10*50/100\n",
        "      print(\"Enjoy...50% off\")\n",
        "      print(\"ticket price is Rs\",price)\n",
        "  elif gender==\"Male\":\n",
        "      if age>=5 and age<=12:\n",
        "        print(\"ticket price is Rs.10\")\n",
        "      elif age>12 and age<=60:\n",
        "        print(\"ticket price is Rs.50\")\n",
        "  else:\n",
        "    print(\"check your answer...\")"
      ],
      "metadata": {
        "id": "N4P2w57Sptkp",
        "colab": {
          "base_uri": "https://localhost:8080/"
        },
        "outputId": "55de7779-e1d1-4df4-b216-a20d4b3ff14b"
      },
      "execution_count": null,
      "outputs": [
        {
          "output_type": "stream",
          "name": "stdout",
          "text": [
            "welcome....\n",
            "enter your age:60\n",
            "enter your gender\n",
            "Male or Female\n",
            "female\n",
            "Enjoy...50% off\n",
            "ticket price is Rs 25.0\n"
          ]
        }
      ]
    },
    {
      "cell_type": "code",
      "source": [],
      "metadata": {
        "id": "uOYgVFFo6cVH"
      },
      "execution_count": null,
      "outputs": []
    },
    {
      "cell_type": "code",
      "source": [],
      "metadata": {
        "id": "R4UDCcstoFq8"
      },
      "execution_count": null,
      "outputs": []
    },
    {
      "cell_type": "code",
      "source": [],
      "metadata": {
        "id": "sdiEwiG7o4A0"
      },
      "execution_count": null,
      "outputs": []
    },
    {
      "cell_type": "code",
      "source": [],
      "metadata": {
        "id": "btYSpOwYppKk"
      },
      "execution_count": null,
      "outputs": []
    },
    {
      "cell_type": "code",
      "source": [],
      "metadata": {
        "id": "d1ZX453zqz2d"
      },
      "execution_count": null,
      "outputs": []
    }
  ]
}