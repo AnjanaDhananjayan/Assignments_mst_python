{
  "nbformat": 4,
  "nbformat_minor": 0,
  "metadata": {
    "colab": {
      "provenance": []
    },
    "kernelspec": {
      "name": "python3",
      "display_name": "Python 3"
    },
    "language_info": {
      "name": "python"
    }
  },
  "cells": [
    {
      "cell_type": "markdown",
      "source": [
        "**Question_1**"
      ],
      "metadata": {
        "id": "NDNliJ6Z6mnJ"
      }
    },
    {
      "cell_type": "code",
      "execution_count": null,
      "metadata": {
        "colab": {
          "base_uri": "https://localhost:8080/"
        },
        "id": "w4DVmrK3GXVb",
        "outputId": "6189318c-c579-4846-9d7d-658bc0dddad0"
      },
      "outputs": [
        {
          "output_type": "execute_result",
          "data": {
            "text/plain": [
              "191"
            ]
          },
          "metadata": {},
          "execution_count": 4
        }
      ],
      "source": [
        "list1=[23,45,56,67]\n",
        "sum(list1)\n"
      ]
    },
    {
      "cell_type": "markdown",
      "source": [
        "\n",
        "**Question_2**"
      ],
      "metadata": {
        "id": "RdpbvDHt6qFY"
      }
    },
    {
      "cell_type": "markdown",
      "source": [
        "**a**,"
      ],
      "metadata": {
        "id": "hPz3-QJK71rX"
      }
    },
    {
      "cell_type": "code",
      "source": [
        "str=\"my name is anjana\"\n",
        "len(str)"
      ],
      "metadata": {
        "colab": {
          "base_uri": "https://localhost:8080/"
        },
        "id": "co6g9DmLWnzK",
        "outputId": "5d7dec78-ed55-4462-a83d-dd594d42d297"
      },
      "execution_count": null,
      "outputs": [
        {
          "output_type": "execute_result",
          "data": {
            "text/plain": [
              "17"
            ]
          },
          "metadata": {},
          "execution_count": 5
        }
      ]
    },
    {
      "cell_type": "markdown",
      "source": [
        "**b**,"
      ],
      "metadata": {
        "id": "3pYOxMf275uv"
      }
    },
    {
      "cell_type": "code",
      "source": [
        "str[:8]"
      ],
      "metadata": {
        "id": "V5xIQKxMe3Kn",
        "colab": {
          "base_uri": "https://localhost:8080/",
          "height": 35
        },
        "outputId": "87537e18-6399-407f-a71a-36792fed035e"
      },
      "execution_count": null,
      "outputs": [
        {
          "output_type": "execute_result",
          "data": {
            "text/plain": [
              "'my name '"
            ],
            "application/vnd.google.colaboratory.intrinsic+json": {
              "type": "string"
            }
          },
          "metadata": {},
          "execution_count": 8
        }
      ]
    },
    {
      "cell_type": "markdown",
      "source": [
        "**Question_3**"
      ],
      "metadata": {
        "id": "4h9eQ4NL8M7K"
      }
    },
    {
      "cell_type": "code",
      "source": [
        "t1=(78,45,[32],19,82,77,40,39)\n",
        "\n"
      ],
      "metadata": {
        "id": "-bMqgxCt7mPX"
      },
      "execution_count": null,
      "outputs": []
    },
    {
      "cell_type": "code",
      "source": [
        "t1[2][0]=100"
      ],
      "metadata": {
        "id": "0PQSb5hHA0jI"
      },
      "execution_count": null,
      "outputs": []
    },
    {
      "cell_type": "code",
      "source": [
        "t1\n"
      ],
      "metadata": {
        "colab": {
          "base_uri": "https://localhost:8080/"
        },
        "id": "mHLNPQpTA7fx",
        "outputId": "88a717bb-0007-468c-f68b-b77c83a7c476"
      },
      "execution_count": null,
      "outputs": [
        {
          "output_type": "execute_result",
          "data": {
            "text/plain": [
              "(78, 45, [100], 19, 82, 77, 40, 39)"
            ]
          },
          "metadata": {},
          "execution_count": 15
        }
      ]
    },
    {
      "cell_type": "markdown",
      "source": [
        "**Question_4**"
      ],
      "metadata": {
        "id": "OiXmKF8nB4N6"
      }
    },
    {
      "cell_type": "code",
      "source": [
        "listA=[19,32,10,55,31,32,94,29,10,65,77,40,40]"
      ],
      "metadata": {
        "id": "VXsYJZ6OBGj5"
      },
      "execution_count": 29,
      "outputs": []
    },
    {
      "cell_type": "markdown",
      "source": [
        "**a,**"
      ],
      "metadata": {
        "id": "LakTxAvWGmux"
      }
    },
    {
      "cell_type": "code",
      "source": [
        "listA.remove(32)\n",
        "listA"
      ],
      "metadata": {
        "colab": {
          "base_uri": "https://localhost:8080/"
        },
        "id": "E58sFIiOI-pQ",
        "outputId": "170970b8-859e-4027-9e1d-d5e6adde4c2c"
      },
      "execution_count": 30,
      "outputs": [
        {
          "output_type": "execute_result",
          "data": {
            "text/plain": [
              "[19, 10, 55, 31, 32, 94, 29, 10, 65, 77, 40, 40]"
            ]
          },
          "metadata": {},
          "execution_count": 30
        }
      ]
    },
    {
      "cell_type": "markdown",
      "source": [
        "**b,**"
      ],
      "metadata": {
        "id": "gzxFqRV6GpOV"
      }
    },
    {
      "cell_type": "code",
      "source": [
        "listA.pop()\n",
        "listA.pop()\n",
        "listA"
      ],
      "metadata": {
        "colab": {
          "base_uri": "https://localhost:8080/"
        },
        "id": "oP9XpGTfLpxv",
        "outputId": "79981d2c-67aa-4aff-b1d1-cb39d28ab02e"
      },
      "execution_count": 31,
      "outputs": [
        {
          "output_type": "execute_result",
          "data": {
            "text/plain": [
              "[19, 10, 55, 31, 32, 94, 29, 10, 65, 77]"
            ]
          },
          "metadata": {},
          "execution_count": 31
        }
      ]
    },
    {
      "cell_type": "markdown",
      "source": [
        "**c,**"
      ],
      "metadata": {
        "id": "N5Di6JZHGsHJ"
      }
    },
    {
      "cell_type": "code",
      "source": [
        "listA.pop(5)"
      ],
      "metadata": {
        "colab": {
          "base_uri": "https://localhost:8080/"
        },
        "id": "8Cl_-YnvJN6P",
        "outputId": "cc65fabe-42af-4145-b017-8b625b532263"
      },
      "execution_count": 32,
      "outputs": [
        {
          "output_type": "execute_result",
          "data": {
            "text/plain": [
              "94"
            ]
          },
          "metadata": {},
          "execution_count": 32
        }
      ]
    },
    {
      "cell_type": "markdown",
      "source": [
        "**d,**"
      ],
      "metadata": {
        "id": "UA2DXhfAGuGJ"
      }
    },
    {
      "cell_type": "code",
      "source": [
        "listA.insert(9,300)\n",
        "listA\n"
      ],
      "metadata": {
        "colab": {
          "base_uri": "https://localhost:8080/"
        },
        "id": "54krQAaIJSwf",
        "outputId": "d3943b2e-ecf0-4fcf-fd2b-14e93235db9d"
      },
      "execution_count": 19,
      "outputs": [
        {
          "output_type": "execute_result",
          "data": {
            "text/plain": [
              "[19, 10, 55, 31, 32, 29, 10, 65, 77, 300]"
            ]
          },
          "metadata": {},
          "execution_count": 19
        }
      ]
    },
    {
      "cell_type": "markdown",
      "source": [
        "**e,**"
      ],
      "metadata": {
        "id": "awvJAVT4Gvgi"
      }
    },
    {
      "cell_type": "code",
      "source": [
        "listA.insert(2,200)\n",
        "listA"
      ],
      "metadata": {
        "colab": {
          "base_uri": "https://localhost:8080/"
        },
        "id": "gxnSAR2uJcEB",
        "outputId": "d538b885-a4ec-45a1-8e4b-bc712bc1e360"
      },
      "execution_count": 33,
      "outputs": [
        {
          "output_type": "execute_result",
          "data": {
            "text/plain": [
              "[19, 10, 200, 55, 31, 32, 29, 10, 65, 77]"
            ]
          },
          "metadata": {},
          "execution_count": 33
        }
      ]
    },
    {
      "cell_type": "markdown",
      "source": [
        "**f,**"
      ],
      "metadata": {
        "id": "3pqbTcXLGy-P"
      }
    },
    {
      "cell_type": "code",
      "source": [
        "len(listA)"
      ],
      "metadata": {
        "colab": {
          "base_uri": "https://localhost:8080/"
        },
        "id": "x3u1H11QMP6B",
        "outputId": "dee3bb91-493c-4283-ecbf-5f385156b81c"
      },
      "execution_count": 22,
      "outputs": [
        {
          "output_type": "execute_result",
          "data": {
            "text/plain": [
              "11"
            ]
          },
          "metadata": {},
          "execution_count": 22
        }
      ]
    },
    {
      "cell_type": "code",
      "source": [
        "max(listA)"
      ],
      "metadata": {
        "colab": {
          "base_uri": "https://localhost:8080/"
        },
        "id": "1zIg_x5CMUZ5",
        "outputId": "a107c977-10b1-4e36-b443-d08f00e49271"
      },
      "execution_count": 23,
      "outputs": [
        {
          "output_type": "execute_result",
          "data": {
            "text/plain": [
              "300"
            ]
          },
          "metadata": {},
          "execution_count": 23
        }
      ]
    },
    {
      "cell_type": "code",
      "source": [
        "sum(listA)"
      ],
      "metadata": {
        "colab": {
          "base_uri": "https://localhost:8080/"
        },
        "id": "ETYqVrDMMWxT",
        "outputId": "38c4095f-83d2-41cc-999d-650b219c36b9"
      },
      "execution_count": 24,
      "outputs": [
        {
          "output_type": "execute_result",
          "data": {
            "text/plain": [
              "828"
            ]
          },
          "metadata": {},
          "execution_count": 24
        }
      ]
    },
    {
      "cell_type": "markdown",
      "source": [
        "**question_5**"
      ],
      "metadata": {
        "id": "pRVZragoMoEj"
      }
    },
    {
      "cell_type": "code",
      "source": [
        "str1=\"The day has been long\"\n"
      ],
      "metadata": {
        "id": "oS_E8Xd6MbfY"
      },
      "execution_count": 3,
      "outputs": []
    },
    {
      "cell_type": "markdown",
      "source": [
        "**a,**"
      ],
      "metadata": {
        "id": "WHiW3K5lG1-7"
      }
    },
    {
      "cell_type": "code",
      "source": [
        "str2=str1.replace(str1[4],\"\")\n",
        "print(str2)"
      ],
      "metadata": {
        "colab": {
          "base_uri": "https://localhost:8080/"
        },
        "id": "AxE1s6BtOTNI",
        "outputId": "63e35bcd-bac5-4eaf-e1ab-0f4ff88a4f89"
      },
      "execution_count": 34,
      "outputs": [
        {
          "output_type": "stream",
          "name": "stdout",
          "text": [
            "The ay has been long\n"
          ]
        }
      ]
    },
    {
      "cell_type": "markdown",
      "source": [
        "**b,**"
      ],
      "metadata": {
        "id": "GiDr3iPoG5N5"
      }
    },
    {
      "cell_type": "code",
      "source": [
        "print((str2+\"\\t\")*4)"
      ],
      "metadata": {
        "colab": {
          "base_uri": "https://localhost:8080/"
        },
        "id": "Zf9XQpfMPhE1",
        "outputId": "6510a8ec-aa8d-4636-c840-ee8015c89270"
      },
      "execution_count": 35,
      "outputs": [
        {
          "output_type": "stream",
          "name": "stdout",
          "text": [
            "The ay has been long\tThe ay has been long\tThe ay has been long\tThe ay has been long\t\n"
          ]
        }
      ]
    },
    {
      "cell_type": "markdown",
      "source": [
        "**c,**"
      ],
      "metadata": {
        "id": "Wzyi0L53G7UA"
      }
    },
    {
      "cell_type": "code",
      "source": [
        " print((str2+\"\\n\")*3)"
      ],
      "metadata": {
        "colab": {
          "base_uri": "https://localhost:8080/"
        },
        "id": "RvCHynvoP3xi",
        "outputId": "bb22ccfa-44ff-445a-a790-353356c4fdb0"
      },
      "execution_count": 8,
      "outputs": [
        {
          "output_type": "stream",
          "name": "stdout",
          "text": [
            "The ay has been long\n",
            "The ay has been long\n",
            "The ay has been long\n",
            "\n"
          ]
        }
      ]
    },
    {
      "cell_type": "markdown",
      "source": [
        "**d,**"
      ],
      "metadata": {
        "id": "mHvAAN8eG9t0"
      }
    },
    {
      "cell_type": "code",
      "source": [
        "\n",
        "str3=str2.replace(str1[7:],\"A\")\n",
        "print(str3)\n"
      ],
      "metadata": {
        "colab": {
          "base_uri": "https://localhost:8080/"
        },
        "id": "o9Ej5qOITupw",
        "outputId": "f88508ea-3f6b-4cf2-db4b-16175d339ae3"
      },
      "execution_count": 27,
      "outputs": [
        {
          "output_type": "stream",
          "name": "stdout",
          "text": [
            "The ayA\n"
          ]
        }
      ]
    },
    {
      "cell_type": "markdown",
      "source": [
        "**e,**"
      ],
      "metadata": {
        "id": "8DrYbpJoJEXG"
      }
    },
    {
      "cell_type": "code",
      "source": [
        "str3[4:15]"
      ],
      "metadata": {
        "colab": {
          "base_uri": "https://localhost:8080/",
          "height": 35
        },
        "id": "pwqOEo2KUAS2",
        "outputId": "86f62c07-1df3-4db1-f77f-872bc071737a"
      },
      "execution_count": 36,
      "outputs": [
        {
          "output_type": "execute_result",
          "data": {
            "text/plain": [
              "'ayA'"
            ],
            "application/vnd.google.colaboratory.intrinsic+json": {
              "type": "string"
            }
          },
          "metadata": {},
          "execution_count": 36
        }
      ]
    },
    {
      "cell_type": "markdown",
      "source": [
        "**f,**"
      ],
      "metadata": {
        "id": "7-sjnYEmJHMH"
      }
    },
    {
      "cell_type": "code",
      "source": [
        "len(str3)"
      ],
      "metadata": {
        "colab": {
          "base_uri": "https://localhost:8080/"
        },
        "id": "Wkim4A4ZXI8s",
        "outputId": "ef37b785-1985-43a2-96c4-ce64d53cdb17"
      },
      "execution_count": 14,
      "outputs": [
        {
          "output_type": "execute_result",
          "data": {
            "text/plain": [
              "7"
            ]
          },
          "metadata": {},
          "execution_count": 14
        }
      ]
    },
    {
      "cell_type": "code",
      "source": [],
      "metadata": {
        "id": "GKv-gjlvi7Sh"
      },
      "execution_count": null,
      "outputs": []
    }
  ]
}