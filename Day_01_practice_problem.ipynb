{
  "nbformat": 4,
  "nbformat_minor": 0,
  "metadata": {
    "colab": {
      "provenance": []
    },
    "kernelspec": {
      "name": "python3",
      "display_name": "Python 3"
    },
    "language_info": {
      "name": "python"
    }
  },
  "cells": [
    {
      "cell_type": "code",
      "execution_count": null,
      "metadata": {
        "id": "dO661vo4woRU"
      },
      "outputs": [],
      "source": [
        "\n",
        "question _1\n",
        "\n",
        "name=\"hello,world!\"\n",
        "print(name[0:5])\n",
        "output\n",
        "hello\n",
        "\n",
        "question_2\n",
        "\n",
        "name=\"Python is fun\"\n",
        "print(name[7:9])\n",
        "output\n",
        "is\n",
        "\n",
        "question _3\n",
        "\n",
        "name=\"programming\"\n",
        "print(name[3:7])\n",
        "output\n",
        "gram\n",
        "\n",
        "question _4\n",
        "\n",
        "name=\"abcdefgh\"\n",
        "print(name[2:8:2])\n",
        "output\n",
        "ceg\n",
        "\n",
        "question _5\n",
        "\n",
        "name=\"abcdefg\"\n",
        "print(name[-3:])\n",
        "output\n",
        "efg\n",
        "\n",
        "question _6\n",
        "\n",
        "name=\"Data Science\"\n",
        "print(name[-3:])\n",
        "output\n",
        "nce\n",
        "\n",
        "question _7\n",
        "\n",
        "name=\"abcdefghij\"\n",
        "print(name[1:10:2])\n",
        "output\n",
        "bdfhj\n",
        "\n",
        "question _8\n",
        "\n",
        "name=\"123456789\"\n",
        "print(name[0:10:2])\n",
        "output\n",
        "13579\n",
        "\n",
        "question _9\n",
        "\n",
        "name=\"Hello\"\n",
        "print(name[::-1])\n",
        "output\n",
        "olleH\n",
        "\n",
        "question _10\n",
        "\n",
        "name=\"abcdefghijk\"\n",
        "print(name[0:11:2])\n",
        "output\n",
        "acegik"
      ]
    }
  ]
}