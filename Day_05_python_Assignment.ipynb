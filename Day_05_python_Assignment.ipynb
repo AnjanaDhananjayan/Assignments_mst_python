{
  "nbformat": 4,
  "nbformat_minor": 0,
  "metadata": {
    "colab": {
      "provenance": []
    },
    "kernelspec": {
      "name": "python3",
      "display_name": "Python 3"
    },
    "language_info": {
      "name": "python"
    }
  },
  "cells": [
    {
      "cell_type": "markdown",
      "source": [
        "**Question_1**"
      ],
      "metadata": {
        "id": "7rb6x8Z23SsY"
      }
    },
    {
      "cell_type": "code",
      "execution_count": null,
      "metadata": {
        "id": "8bAQcd3Znd4k",
        "colab": {
          "base_uri": "https://localhost:8080/"
        },
        "outputId": "cb0fd7a3-db34-4e4f-f041-74261d1ac330"
      },
      "outputs": [
        {
          "output_type": "stream",
          "name": "stdout",
          "text": [
            "enter the first number-10\n",
            "enter the second number100\n",
            "enter the third number50\n",
            "the middle term is : 100\n"
          ]
        }
      ],
      "source": [
        "def middlevalue(a,b,c):\n",
        "  list1=[a,b,c]\n",
        "  middle=(len(list1)+1)/2\n",
        "  print(\"the middle term is :\",list1[int(middle)-1])\n",
        "a=int(input(\"enter the first number:\" ))\n",
        "b=int(input(\"enter the second number:\" ))\n",
        "c=int(input(\"enter the third number:\" ))\n",
        "middlevalue(a,b,c)"
      ]
    },
    {
      "cell_type": "markdown",
      "source": [
        "**Question_2**"
      ],
      "metadata": {
        "id": "2Ydp3fjQHZcG"
      }
    },
    {
      "cell_type": "code",
      "source": [
        "def Addition(a,b):\n",
        "  result=a+b\n",
        "  print(result)\n",
        "def substraction(a,b):\n",
        "  result=a-b\n",
        "  print(result)\n",
        "def multiplication(a,b):\n",
        "  result=a*b\n",
        "  print(result)\n",
        "def division(a,b):\n",
        "  result=a/b\n",
        "  print(result)\n",
        "print(\"CALCULATOR\")\n",
        "a=int(input(\"\"))\n",
        "sign=input(\"+\" \"\\t\"\"-\" \"\\t\"\"*\"\"\\t\" \"/\"\"\\t\")\n",
        "b=int(input(\"\"))\n",
        "if sign==\"+\":\n",
        "  Addition(a,b)\n",
        "if sign==\"-\":\n",
        " substraction(a,b)\n",
        "if sign==\"*\":\n",
        " multiplication(a,b)\n",
        "if sign==\"/\":\n",
        " division(a,b)\n"
      ],
      "metadata": {
        "colab": {
          "base_uri": "https://localhost:8080/"
        },
        "id": "afRXQY8fsgR6",
        "outputId": "f8e641e9-951f-4227-b18d-5b06ad518a43"
      },
      "execution_count": 3,
      "outputs": [
        {
          "output_type": "stream",
          "name": "stdout",
          "text": [
            "CALCULATOR\n",
            "10\n",
            "+\t-\t*\t/\t+\n",
            "20\n",
            "30\n"
          ]
        }
      ]
    },
    {
      "cell_type": "markdown",
      "source": [
        "**Question_3**"
      ],
      "metadata": {
        "id": "I_ATNqcrHhK2"
      }
    },
    {
      "cell_type": "code",
      "source": [
        "import math\n",
        "def hypotenuse(a,b):\n",
        "  result=round(math.sqrt(a*a+b*b),2)\n",
        "  return result\n",
        "a=int(input(\"enter the length of one side of the triangle: \"))\n",
        "b=int(input(\"enter the length of second side of the triangle: \"))\n",
        "answer=hypotenuse(a,b)\n",
        "print(\"the length of hypotenuse is: \",answer)\n"
      ],
      "metadata": {
        "colab": {
          "base_uri": "https://localhost:8080/"
        },
        "id": "ElCZQG2P6VV6",
        "outputId": "2cb97fdb-04db-4bd3-8966-a4fd65785d7e"
      },
      "execution_count": 5,
      "outputs": [
        {
          "output_type": "stream",
          "name": "stdout",
          "text": [
            "enter the length of one side of the triangle: 5\n",
            "enter the length of second side of the triangle: 8\n",
            "the length of hypotenuse is:  9.43\n"
          ]
        }
      ]
    },
    {
      "cell_type": "markdown",
      "source": [
        "**Question_4**"
      ],
      "metadata": {
        "id": "8iG23aiMH8H1"
      }
    },
    {
      "cell_type": "code",
      "source": [
        "class Rectangle:\n",
        "  def __init__(self,length,width):\n",
        "    self.length=length\n",
        "    self.width=width\n",
        "  def perimeter(self):\n",
        "    return 2*(self.length+self.width)\n",
        "  def area(self):\n",
        "    return self.length*self.width\n",
        "  def display(self):\n",
        "    print(\"Length of the rectangle is: \",self.length)\n",
        "    print(\"Width of the rectangle is: \",self.width)\n",
        "    print(\"Perimeter of the rectangle is: \",output)\n",
        "    print(\"Area of the rectangle is: \",output1)\n",
        "length=int(input(\"enter the length: \"))\n",
        "width=int(input(\"enter the width: \"))\n",
        "rect=Rectangle(length,width)\n",
        "output=rect.perimeter()\n",
        "output1=rect.area()\n",
        "rect.display()\n",
        "\n",
        "\n"
      ],
      "metadata": {
        "colab": {
          "base_uri": "https://localhost:8080/"
        },
        "id": "N-eLPuKr__iw",
        "outputId": "34901702-3e43-4202-b8d5-fb2a85ff990f"
      },
      "execution_count": null,
      "outputs": [
        {
          "output_type": "stream",
          "name": "stdout",
          "text": [
            "enter the length: 10\n",
            "enter the width: 20\n",
            "Length of the rectangle is:  10\n",
            "Width of the rectangle is:  20\n",
            "Perimeter of the rectangle is:  60\n",
            "Area of the rectangle is:  200\n"
          ]
        }
      ]
    },
    {
      "cell_type": "markdown",
      "source": [
        "**Question_5**"
      ],
      "metadata": {
        "id": "3xTcfQeyIL_w"
      }
    },
    {
      "cell_type": "code",
      "source": [
        "class BankAccount:\n",
        "  def __init__(self,accountNumber,name,balance):\n",
        "    self.accountNumber=accountNumber\n",
        "    self.name=name\n",
        "    self.balance=balance\n",
        "  def Deposit(self,add_amount):\n",
        "    self.balance=self.balance+add_amount\n",
        "    return self.balance\n",
        "  def withdrawal(self,sub_amount):\n",
        "    self.balance=self.balance-sub_amount\n",
        "    return self.balance\n",
        "  def bank_fee(self):\n",
        "    return self.balance*5/100\n",
        "  def display(self):\n",
        "    print(\"Name of Account holder: \",self.name)\n",
        "    print(\"Account number: \",self.accountNumber)\n",
        "    print(\"Available Amount: \",self.balance)\n",
        "accountNumber=int(input(\"Enter the account number: \"))\n",
        "name=input(\"enter the name of account holder: \")\n",
        "balance=int(input(\"Available balance is: \"))\n",
        "bank_optn=input(\"Deposit\"\"\\n\"\"Withdrawal\"\"\\n\")\n",
        "obj_account=BankAccount(accountNumber,name,balance)\n",
        "if bank_optn==\"Deposit\":\n",
        "  add_amount=int(input(\"How much rupees you want to deposit\"))\n",
        "  new_amount=obj_account.Deposit(add_amount)\n",
        "  print(\"Available balance is: \",new_amount)\n",
        "if bank_optn==\"Withdrawal\":\n",
        "  sub_amount=int(input(\"How much rupees you want to withdraw\"))\n",
        "  avail_amount=obj_account.withdrawal(sub_amount)\n",
        "  print(\"Availabl balance is: \",avail_amount)\n",
        "bankfee=obj_account.bank_fee()\n",
        "print(\"bank fee is: \",bankfee)\n",
        "obj_account.display()\n",
        "\n",
        "\n"
      ],
      "metadata": {
        "colab": {
          "base_uri": "https://localhost:8080/"
        },
        "id": "J0lThFN0IeIP",
        "outputId": "089724c7-a403-4c7f-8be5-e02074727880"
      },
      "execution_count": null,
      "outputs": [
        {
          "output_type": "stream",
          "name": "stdout",
          "text": [
            "Enter the account number: 123\n",
            "enter the name of account holder: kalesh\n",
            "Available balance is: 5000\n",
            "Deposit\n",
            "Withdrawal\n",
            "Withdrawal\n",
            "How much rupees you want to withdraw2000\n",
            "Availabl balance is:  3000\n",
            "bank fee is:  150.0\n",
            "Name of Account holder:  kalesh\n",
            "Account number:  123\n",
            "Available Amount:  3000\n"
          ]
        }
      ]
    },
    {
      "cell_type": "code",
      "source": [],
      "metadata": {
        "id": "_laH4VjbeXOG"
      },
      "execution_count": null,
      "outputs": []
    }
  ]
}